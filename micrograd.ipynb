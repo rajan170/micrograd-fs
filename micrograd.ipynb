{
 "cells": [
  {
   "cell_type": "code",
   "execution_count": 3,
   "id": "8ed58041",
   "metadata": {},
   "outputs": [],
   "source": [
    "import numpy as np\n",
    "import matplotlib.pyplot as plt\n",
    "import math"
   ]
  },
  {
   "cell_type": "code",
   "execution_count": 22,
   "id": "da1ac826",
   "metadata": {},
   "outputs": [
    {
     "name": "stdout",
     "output_type": "stream",
     "text": [
      "Value: data = 11.0\n"
     ]
    }
   ],
   "source": [
    "class Value:\n",
    "    \"\"\"\n",
    "    The Value class represents a single scalar value in a computational graph.\n",
    "\n",
    "    It stores:\n",
    "        - The numeric data (`data`) — the actual scalar value (e.g., 2.0, 3.5)\n",
    "        - The set of previous nodes (`_prev`) — which values were combined to produce this one\n",
    "        - The operator used (`_op`) — which operation created this value ('+', '*', etc.)\n",
    "\n",
    "    This structure allows us to trace how each value was derived, which is essential\n",
    "    for building automatic differentiation systems (like those used in neural networks).\n",
    "    \"\"\"\n",
    "\n",
    "    def __init__(self, data, _children=(), _op=''):\n",
    "        \"\"\"\n",
    "        Initializes a Value object.\n",
    "\n",
    "        Parameters:\n",
    "            data (float): The scalar value this node represents.\n",
    "            _children (tuple): The child Value objects that were combined to create this one.\n",
    "                               Default is an empty tuple for leaf nodes.\n",
    "            _op (str): The operation that produced this node ('+', '*', etc.). Default is ''.\n",
    "        \"\"\"\n",
    "        self.data = data               # The numeric value of this node\n",
    "        self._prev = set(_children)    # Keep track of the input nodes that created this node\n",
    "        self._op = _op                 # Store the operator for debugging/graph visualization\n",
    "\n",
    "    def __repr__(self):\n",
    "        \"\"\"\n",
    "        Returns a readable string representation of the Value object.\n",
    "        This helps when printing or debugging.\n",
    "        \"\"\"\n",
    "        return f\"Value: data = {self.data}\"\n",
    "\n",
    "    def __add__(self, other):\n",
    "        \"\"\"\n",
    "        Defines the '+' operator for Value objects.\n",
    "\n",
    "        When we do `a + b`, this method:\n",
    "          1. Creates a new Value node with data = a.data + b.data\n",
    "          2. Records (a, b) as its _children\n",
    "          3. Tags the operation as '+'\n",
    "\n",
    "        Returns:\n",
    "            Value: A new Value object representing the sum.\n",
    "        \"\"\"\n",
    "        out = Value(self.data + other.data, (self, other), '+')\n",
    "        return out\n",
    "\n",
    "    def __mul__(self, other):\n",
    "        \"\"\"\n",
    "        Defines the '*' operator for Value objects.\n",
    "\n",
    "        When we do `a * b`, this method:\n",
    "          1. Creates a new Value node with data = a.data * b.data\n",
    "          2. Records (a, b) as its _children\n",
    "          3. Tags the operation as '*'\n",
    "\n",
    "        Returns:\n",
    "            Value: A new Value object representing the product.\n",
    "        \"\"\"\n",
    "        out = Value(self.data * other.data, (self, other), '*')\n",
    "        return out\n",
    "\n",
    "\n",
    "a = Value(2.0)   \n",
    "b = Value(3.0)  \n",
    "c = Value(5.0)   \n",
    "\n",
    "# Example of a small computation graph:\n",
    "# d = (a * b) + c\n",
    "d = a * b + c\n",
    "\n",
    "print(d)\n",
    "# Output: Value: data = 11.0\n",
    "\n",
    "# Internally:\n",
    "# d._prev = {a*b, c}\n",
    "# (a*b)._prev = {a, b}\n",
    "# This forms a small graph showing how d depends on a, b, and c."
   ]
  },
  {
   "cell_type": "code",
   "execution_count": 18,
   "id": "9bb6cb24",
   "metadata": {},
   "outputs": [
    {
     "data": {
      "text/plain": [
       "{Value: data = 5.0, Value: data = 6.0}"
      ]
     },
     "execution_count": 18,
     "metadata": {},
     "output_type": "execute_result"
    }
   ],
   "source": [
    "d._prev"
   ]
  },
  {
   "cell_type": "code",
   "execution_count": 19,
   "id": "4f7387b2",
   "metadata": {},
   "outputs": [
    {
     "data": {
      "text/plain": [
       "'+'"
      ]
     },
     "execution_count": 19,
     "metadata": {},
     "output_type": "execute_result"
    }
   ],
   "source": [
    "d._op"
   ]
  },
  {
   "cell_type": "code",
   "execution_count": null,
   "id": "cce9db36",
   "metadata": {},
   "outputs": [],
   "source": []
  }
 ],
 "metadata": {
  "kernelspec": {
   "display_name": "Python 3 (ipykernel)",
   "language": "python",
   "name": "python3"
  },
  "language_info": {
   "codemirror_mode": {
    "name": "ipython",
    "version": 3
   },
   "file_extension": ".py",
   "mimetype": "text/x-python",
   "name": "python",
   "nbconvert_exporter": "python",
   "pygments_lexer": "ipython3",
   "version": "3.12.9"
  }
 },
 "nbformat": 4,
 "nbformat_minor": 5
}
